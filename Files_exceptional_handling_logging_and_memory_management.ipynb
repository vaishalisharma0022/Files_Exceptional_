{
 "cells": [
  {
   "cell_type": "markdown",
   "id": "282882e9-421c-4565-bc15-797d61c29a39",
   "metadata": {},
   "source": [
    "# Files, exceptional handling, logging and memory management \n",
    "# Assingnment:"
   ]
  },
  {
   "cell_type": "markdown",
   "id": "6470b644-b01e-47d5-b7b0-1a06d5688e3e",
   "metadata": {},
   "source": [
    "Questions:"
   ]
  },
  {
   "cell_type": "markdown",
   "id": "ac19e863-fb57-4590-b05e-778d722a2666",
   "metadata": {},
   "source": [
    "Q1. What is the difference between interpreted and compiled languages?\n"
   ]
  },
  {
   "cell_type": "markdown",
   "id": "4577617d-934f-4518-8950-e58ed784884a",
   "metadata": {},
   "source": [
    "Ans. Interpreted Languages\n",
    "* Definition: Code is executed line-by-line by an interpreter at runtime without being converted to machine code beforehand.\n",
    "* Execution Process: Source code is read and executed directly by an interpreter, translating each line into machine instructions on-the-fly.\n",
    "* Performance: Generally slower due to runtime interpretation, as translation happens during execution.\n",
    "* Error Detection: Errors are detected at runtime, often when a specific line is executed, which can make debugging easier but may allow errors to go unnoticed until execution.\n",
    "* Portability: Highly portable, as the interpreter handles platform-specific details; code runs anywhere the interpreter is available.\n",
    "* Development Speed: Faster development and testing, as code can be run immediately without a compilation step.\n",
    "* Code Distribution: Source code or scripts are distributed and run via an interpreter, which must be installed on the target system.\n",
    "* Examples: Python, JavaScript, Ruby, PHP.\n",
    "* Memory Usage: May use more memory, as the interpreter must be loaded alongside the code.\n",
    "* Debugging: Easier to debug interactively, as code can be modified and rerun instantly. \n",
    "\n",
    "\n",
    "Compiled Languages\n",
    "* Definition: Code is translated into machine code (or intermediate code) by a compiler before execution, creating an executable file\n",
    "* Execution Process: Source code is compiled into machine code or bytecode, which is then executed by the hardware or a virtual machine.\n",
    "* Performance: Generally faster, as translation to machine code is done beforehand, optimizing execution.\n",
    "* Error Detection: Errors are detected at compile time (syntax errors, type errors), preventing execution until fixed, which catches issues earlier.\n",
    "* Portability: Less portable, as compiled executables are often platform-specific (e.g., .exe for Windows), requiring recompilation for different platforms.\n",
    "* Development Speed: Slower development due to the compilation step, but execution is faster once compiled.\n",
    "* Code Distribution: Compiled binaries (executables) are distributed, which can run independently without needing the compiler.\n",
    "* Examples: C, C++, Rust, Go, Java (compiled to bytecode).\n",
    "* Memory Usage: Typically uses less memory during execution, as only the compiled machine code is needed.\n",
    "* Debugging : Debugging may require recompilation, but compile-time checks catch many errors upfront."
   ]
  },
  {
   "cell_type": "markdown",
   "id": "390a217c-c78f-4fea-a814-087ce461e9da",
   "metadata": {},
   "source": [
    "Q2. What is exception handling in Python?\n"
   ]
  },
  {
   "cell_type": "markdown",
   "id": "7c765fb7-ab33-4af5-a2e1-e6ed40bc4709",
   "metadata": {},
   "source": [
    "Ans.Exception handling in Python is a mechanism to manage and respond to runtime errors (exceptions) that disrupt the normal flow of a program. It allows developers to gracefully handle errors, prevent program crashes, and execute alternative logic when an error occurs. Python uses a structured approach with the try, except, else, and finally blocks to catch, process, and clean up after exceptions."
   ]
  },
  {
   "cell_type": "markdown",
   "id": "17533993-d246-415d-a0dc-daa07b29ed06",
   "metadata": {},
   "source": [
    "Q3. What is the purpose of the finally block in exception handling?\n"
   ]
  },
  {
   "cell_type": "markdown",
   "id": "efcfa3d3-41dc-49b4-bb51-73f8a044b934",
   "metadata": {},
   "source": [
    "Ans. \n",
    "The finally block in Python’s exception handling is a component of the try-except construct that executes code regardless of whether an exception occurs or is caught. Its primary purpose is to ensure that cleanup or finalization tasks (e.g., closing files, releasing resources, or logging) are performed, even if an error occurs or the program exits the try block early."
   ]
  },
  {
   "cell_type": "markdown",
   "id": "93a796d9-b0b2-4c79-9be0-072882b43a25",
   "metadata": {},
   "source": [
    "Q4. What is logging in Python?\n"
   ]
  },
  {
   "cell_type": "markdown",
   "id": "05a3c31e-4b4d-4452-a828-c6447bc27429",
   "metadata": {},
   "source": [
    "Ans. \n",
    "Logging in Python is a mechanism provided by the built-in logging module to record events, messages, or diagnostic information during a program’s execution. It is used to track the flow of a program, debug issues, monitor performance, or audit actions, offering a more robust and flexible alternative to using print() statements for debugging or status reporting. The logging module allows developers to categorize messages by severity, direct them to various outputs (e.g., console, files), and control their verbosity."
   ]
  },
  {
   "cell_type": "markdown",
   "id": "6355147c-683f-4699-8dd7-27274546ed7e",
   "metadata": {},
   "source": [
    "Q5. What is the significance of the __del__ method in Python?\n"
   ]
  },
  {
   "cell_type": "markdown",
   "id": "a6e2226f-556b-4970-b3a3-6d8faf4050db",
   "metadata": {},
   "source": [
    "Ans. The __del__ method is a special dunder (double underscore) method in Python that acts as a destructor for a class. It is called automatically when an object’s reference count drops to zero and it is about to be garbage-collected, allowing developers to define custom cleanup or finalization logic."
   ]
  },
  {
   "cell_type": "markdown",
   "id": "7e4638a4-965b-4e89-86cd-24044dbc1163",
   "metadata": {},
   "source": [
    "Q6. What is the difference between import and from ... import in Python?\n"
   ]
  },
  {
   "cell_type": "markdown",
   "id": "09e01197-95d5-4d2b-9bbd-2a73d877aa32",
   "metadata": {},
   "source": [
    "Ans.import\n",
    "* Definition: Imports an entire module or specific items into the current namespace.\n",
    "* Syntax: import module_name or import module_name as alias\n",
    "* Scope: Imports the module as a whole, and items are accessed via module_name.item.\n",
    "* Usage: Used when you want to access the module’s contents with dot notation (e.g., math.sqrt).\n",
    "* Namespace Control: Keeps the module’s namespace separate, reducing risk of name clashes.\n",
    "* Flexibility: Less flexible for direct use but safer for avoiding conflicts.\n",
    "* Example: import math<br>print(math.sqrt(16))\n",
    "\n",
    "from ... import\n",
    "* Definition: mports specific items (e.g., functions, classes, variables) from a module into the current namespace.\n",
    "* Syntax: from module_name import item1, item2 or from module_name import item as alias\n",
    "* Scope: Imports specific items directly into the current namespace, allowing use without the module prefix.\n",
    "* Usage: Used when you want to use specific items without prefixing the module name (e.g., sqrt instead of math.sqrt).\n",
    "* Namespace Control: Imports items into the current namespace, which can lead to name conflicts if not managed carefully.\n",
    "* Flexibility: More flexible for direct access but requires caution to avoid overwriting names.\n",
    "* Example: from math import sqrt<br>print(sqrt(16))"
   ]
  },
  {
   "cell_type": "markdown",
   "id": "a6479fb5-12ee-450d-b8c9-98e7f4a59faa",
   "metadata": {},
   "source": [
    "Q7. How can you handle multiple exceptions in Python?\n"
   ]
  },
  {
   "cell_type": "markdown",
   "id": "0dd52171-be11-4e51-8d4a-69346f193916",
   "metadata": {},
   "source": [
    "Ans. In Python, handling multiple exceptions in exception handling allows a program to gracefully respond to different types of errors that might occur during execution. This is achieved using the try, except, else, and finally blocks, where multiple except clauses or a single except clause with a tuple of exception types can catch various exceptions. This approach ensures robust error handling by addressing specific exceptions differently, improving code reliability and user experience."
   ]
  },
  {
   "cell_type": "markdown",
   "id": "51ee1abb-f152-47b0-a4c5-c2d8e31c3930",
   "metadata": {},
   "source": [
    "Q8. What is the purpose of the with statement when handling files in Python?\n"
   ]
  },
  {
   "cell_type": "markdown",
   "id": "e9173477-db38-426e-a84a-4d454625e594",
   "metadata": {},
   "source": [
    "Ans. The with statement in Python is a construct used to simplify and ensure proper resource management, particularly when working with files, database connections, or other resources that need to be acquired and released (e.g., opened and closed). When handling files, the with statement provides a context manager that automatically manages the setup and cleanup of the file resource, ensuring it is properly closed after use, even if an error occurs. This makes file handling safer, more concise, and less error-prone compared to manual resource management using try/finally blocks."
   ]
  },
  {
   "cell_type": "markdown",
   "id": "b93695e5-8a65-4c76-9c49-b54fa981f92c",
   "metadata": {},
   "source": [
    "Q9. What is the difference between multithreading and multiprocessing?\n"
   ]
  },
  {
   "cell_type": "markdown",
   "id": "cc62fd2b-46d8-4056-ba6b-676509b81889",
   "metadata": {},
   "source": [
    "Ans. Multithreading\n",
    "* Definition: Runs multiple threads within a single process, sharing the same memory space.\n",
    "* Execution Unit: Threads (lightweight, part of the same process).\n",
    "* Memory: Threads share the same memory space, allowing direct access to shared data.\n",
    "* Global Interpreter Lock (GIL): Limited by Python’s GIL, which allows only one thread to execute Python bytecode at a time in CPython.\n",
    "* Performance: Best for I/O-bound tasks (e.g., file operations, network requests) where threads wait for external resources.\n",
    "* Overhead: Lower overhead, as threads are lightweight and share resources.\n",
    "* Communication: Easier, via shared memory (e.g., global variables), but requires synchronization (e.g., locks) to avoid race conditions.\n",
    "* Concurrency vs. Parallelism: Provides concurrency (tasks appear to run simultaneously) but not true parallelism due to GIL for CPU-bound tasks.\n",
    "* Error Isolation: A crash in one thread can affect the entire process.\n",
    "* Use Cases: Web scraping, network servers, file I/O, GUI apps.\n",
    "* Modules: threading module or concurrent.futures.ThreadPoolExecutor.\n",
    "\n",
    "Multiprocessing\n",
    "* Definition: Runs multiple independent processes, each with its own memory space.\n",
    "* Execution Unit: Processes (heavier, separate instances of the Python interpreter).\n",
    "* Memory: Each process has its own memory space, requiring explicit inter-process communication (IPC).\n",
    "* Global Interpreter Lock (GIL): thread to execute Python bytecode at a time in CPython.\tNot affected by the GIL, as each process runs its own Python interpreter.\n",
    "* Performance: Best for CPU-bound tasks (e.g., computations, data processing) where parallel processing is needed.\n",
    "* Overhead: Higher overhead, as each process requires its own memory and interpreter instance.\n",
    "* Communication: More complex, using IPC mechanisms like Queue, Pipe, or shared memory, but avoids race conditions due to separate memory.\n",
    "* Concurrency vs. Parallelism: Provides true parallelism, as processes run independently on multiple CPU cores.\n",
    "* Error Isolation: A crash in one process does not affect others, offering better isolation.\n",
    "* Use Cases: Machine learning, image processing, numerical computations, data analysis.\n",
    "* Modules: multiprocessing module or concurrent.futures.ProcessPoolExecutor"
   ]
  },
  {
   "cell_type": "markdown",
   "id": "f6759aa1-e02b-4fad-8368-25dd9da5b2ee",
   "metadata": {},
   "source": [
    "Q10. What are the advantages of using logging in a program?\n"
   ]
  },
  {
   "cell_type": "markdown",
   "id": "77af7209-2588-49cd-adcb-1f0e61ee8d7b",
   "metadata": {},
   "source": [
    "Ans. Logging in a program, particularly in Python using the logging module, provides a robust and flexible way to record events, errors, and diagnostic information during execution. Unlike print() statements, logging is designed for production-grade applications, offering significant advantages in debugging, monitoring, maintenance, and auditing. Below are the key advantages of using logging in a program:\n",
    "\n",
    "Advantages of Using Logging:\n",
    "1. Structured and Configurable Output:\n",
    "* Logging allows customization of message formats, including timestamps, severity levels, module names, and more, making logs more informative and easier to parse.\n",
    "* Example:"
   ]
  },
  {
   "cell_type": "code",
   "execution_count": 3,
   "id": "9d30f76a-ca4d-4408-b4e6-1d8e67e98cb7",
   "metadata": {},
   "outputs": [],
   "source": [
    "import logging\n",
    "logging.basicConfig(format='%(asctime)s - %(levelname)s - %(message)s')\n",
    "logging.info(\"Program started\")\n",
    "# Output: 2023-10-01 10:00:00,123 - INFO - Program started"
   ]
  },
  {
   "cell_type": "markdown",
   "id": "683881c9-7517-4361-9ccc-baec27b1bdbc",
   "metadata": {},
   "source": [
    "* Advantage: Structured logs are easier to analyze manually or with tools compared to ad-hoc print() output.\n",
    "\n",
    "2. Severity Levels for Prioritization:\n",
    "* The logging module supports multiple severity levels (DEBUG, INFO, WARNING, ERROR, CRITICAL), allowing developers to categorize messages by importance.\n",
    "* Advantage: Filter logs by level (e.g., show only ERROR and above in production, DEBUG in development), reducing noise and focusing on relevant information.\n",
    "\n",
    "3. Multiple Output Destinations:\n",
    "* Logs can be directed to various outputs simultaneously, such as console, files, network sockets, email, or external services (e.g., logging servers).\n",
    "* Advantage: Enables flexible monitoring (e.g., real-time console output for developers, persistent file logs for auditing).\n",
    "\n",
    "4. Persistent Records:\n",
    "* Unlike print() output, which is typically transient (lost unless redirected), logs can be saved to files or databases for later analysis.\n",
    "* Advantage: Provides a historical record for debugging issues, auditing actions, or tracking system behavior over time.\n",
    "\n",
    "5. Thread-Safety:\n",
    "* The logging module is thread-safe, ensuring that log messages from multiple threads are not garbled or interleaved, which is critical in concurrent applications\n",
    "* Advantage: Safe logging in multi-threaded programs, unlike print(), which can produce interleaved output.\n",
    "\n",
    "6. Hierarchical Loggers:\n",
    "* Loggers can be organized hierarchically (e.g., app.module.submodule), allowing fine-grained control over logging behavior for different parts of an application.\n",
    "* Advantage: Enables module-specific logging configurations, such as enabling DEBUG for one module while keeping INFO for others.\n",
    "\n",
    "7. Integration with Exception Handling:\n",
    "* Logging integrates seamlessly with exception handling, allowing detailed error information, including stack traces, to be recorded for debugging.\n",
    "* Advantage: Captures full stack traces, making it easier to diagnose and fix errors compared to print(\"Error\").\n",
    "\n",
    "8. Dynamic Configuration:\n",
    "* Logging behavior (e.g., level, handlers, format) can be configured programmatically or via configuration files (e.g., INI, YAML), allowing changes without modifying code.\n",
    "* Advantage: Facilitates environment-specific logging (e.g., verbose in development, minimal in production) without code changes.\n",
    "\n",
    "9. Reduced Debugging Overhead:\n",
    "* Unlike print() statements, which are often added and removed during debugging, logging statements can remain in the code and be toggled via log levels.\n",
    "* Advantage: Avoids the need to litter code with temporary print() statements, reducing maintenance effort.\n",
    "\n",
    "10. Auditing and Compliance:\n",
    "* Logging provides a verifiable record of program actions (e.g., user logins, file access), which is essential for security audits or regulatory compliance.\n",
    "* Advantage: Supports traceability and accountability in applications, especially in enterprise or regulated environments.\n",
    "\n",
    "11. Extensibility:\n",
    "* The logging module is highly extensible, allowing custom handlers, formatters, and filters to meet specific needs (e.g., sending logs to a cloud service).\n",
    "* Advantage: Adapts to complex logging requirements, such as integrating with monitoring systems.\n",
    "\n",
    "12. Standardized Across Libraries:\n",
    "* Many Python libraries use the logging module, ensuring consistent logging behavior across an application.\n",
    "* Example: Libraries like requests or sqlalchemy log events using logging, which can be configured to match your app’s logging.\n",
    "* Advantage: Unified logging across your code and third-party libraries, simplifying log management."
   ]
  },
  {
   "cell_type": "markdown",
   "id": "1accd323-b69b-4229-96cd-e0505ff354ff",
   "metadata": {},
   "source": [
    "Q11. What is memory management in Python?\n",
    " "
   ]
  },
  {
   "cell_type": "markdown",
   "id": "7314e1b6-952e-47f5-bc88-7e32cd87dd8e",
   "metadata": {},
   "source": [
    "Ans. \n",
    "Memory management in Python involves the process of allocating, using, and deallocating memory for objects in a program. Python handles memory management automatically through the following mechanisms:\n",
    "1. Reference Counting: Python keeps track of the number of references to each object in memory. When an object's reference count drops to zero (i.e., no variable or other object refers to it), the memory allocated to that object is automatically deallocated by Python's garbage collector.\n",
    "2. Garbage Collection: For objects involved in circular references (e.g., objects referencing each other, preventing reference counts from reaching zero), Python's garbage collector periodically identifies and cleans them up. The gc module allows manual control over garbage collection, though it's rarely needed.\n",
    "3. Memory Allocator: Python uses a private heap for memory allocation, managed by its own allocator (pymalloc) for small objects, which optimizes memory usage. Larger objects may use the system's allocator.\n",
    "4. Object-Specific Memory Management: Certain objects, like lists and dictionaries, use techniques like over-allocation or resizing to minimize frequent memory reallocations.\n",
    "5. Dynamic Typing: Python's dynamic typing means memory for variables is allocated based on the type and size of the data at runtime, which is managed transparently.\n",
    "\n",
    "This automatic memory management simplifies development but can lead to inefficiencies if not understood (e.g., holding unnecessary references). Developers can optimize memory usage by using tools like sys.getsizeof(), tracemalloc, or by explicitly deleting references with del when needed."
   ]
  },
  {
   "cell_type": "markdown",
   "id": "a8c5faa0-55cf-4a43-8948-7c5d1886a4d0",
   "metadata": {},
   "source": [
    "Q12. What are the basic steps involved in exception handling in Python?\n",
    " "
   ]
  },
  {
   "cell_type": "markdown",
   "id": "8ea905c5-3c5f-4f9c-a723-dae90aaa38ff",
   "metadata": {},
   "source": [
    "Ans. Exception handling in Python manages errors gracefully using the try, except, else, and finally blocks. The basic steps are:\n",
    "\n",
    "1. Try Block: Place code that might raise an exception inside a try block.\n",
    "2. Except Block: Catch and handle specific exceptions (or general ones) in one or more except blocks. Specify the exception type for targeted handling. Use multiple except blocks for different exceptions or a generic except for all others.\n",
    "3. Else Block (Optional): Execute code in an else block if no exception occurs in the try block.\n",
    "4. Finally Block (Optional): Run code in a finally block regardless of whether an exception occurred or not, typically for cleanup tasks (e.g., closing files)."
   ]
  },
  {
   "cell_type": "markdown",
   "id": "ba3ba16a-6c3c-4ba3-9b8f-128516652bf9",
   "metadata": {},
   "source": [
    "Q13. Why is memory management important in Python?\n"
   ]
  },
  {
   "cell_type": "markdown",
   "id": "ee3d4dd2-ce8f-4a59-bebb-778ddbd4cbb9",
   "metadata": {},
   "source": [
    "Ans. Memory management in Python is important for the following reasons:\n",
    "\n",
    "1. Efficient Resource Utilization: Proper memory management ensures optimal use of system memory, preventing excessive consumption that can slow down or crash applications, especially in resource-constrained environments.\n",
    "2. Performance Optimization: Automatic memory allocation and deallocation (via reference counting and garbage collection) reduce memory leaks and fragmentation, leading to faster program execution and better responsiveness.\n",
    "3. Preventing Memory Leaks: By tracking references and cleaning up unused objects, Python avoids memory leaks (unreleased memory), which is critical for long-running programs like servers or daemons.\n",
    "4. Handling Large Data: In data-intensive applications (e.g., machine learning or big data processing), efficient memory management prevents out-of-memory errors by reusing memory and releasing unneeded objects.\n",
    "5. Scalability: Effective memory management allows Python programs to scale for larger datasets or more users without disproportionate memory demands, improving reliability in production environments.\n",
    "6. Simplified Development: Python’s automatic memory management (e.g., no manual pointer handling) reduces developer effort and bugs related to memory, but understanding it helps optimize code when needed.\n",
    "\n",
    "Poor memory management can lead to inefficiencies, crashes, or performance bottlenecks, making it critical for robust and scalable Python applications."
   ]
  },
  {
   "cell_type": "markdown",
   "id": "271f43ce-bd9e-493d-927f-41d6261d1155",
   "metadata": {},
   "source": [
    "Q14. What is the role of try and except in exception handling?\n"
   ]
  },
  {
   "cell_type": "markdown",
   "id": "4f30be90-6fb7-440b-a34a-3e81bbd8e859",
   "metadata": {},
   "source": [
    "Ans. In Python, the try and except blocks play key roles in exception handling, enabling programs to manage errors gracefully:\n",
    "\n",
    "1. Role of try Block:\n",
    "* The try block contains code that might raise an exception (error) during execution.\n",
    "* It defines the scope where Python monitors for potential errors.\n",
    "* If an exception occurs within the try block, the program immediately jumps to the corresponding except block, preventing a crash.\n",
    "\n",
    "2. Role of except Block:\n",
    "* The except block specifies how to handle specific exceptions (or a general exception) raised in the try block.\n",
    "* It catches the exception, allowing the program to execute alternative logic (e.g., logging the error, displaying a message, or recovering).\n",
    "* You can target specific exceptions or use a generic except for all others. Multiple except blocks can handle different exceptions."
   ]
  },
  {
   "cell_type": "markdown",
   "id": "85c35c2d-dbf3-4d54-968b-351d4f7312e1",
   "metadata": {},
   "source": [
    "Q15. How does Python's garbage collection system work?\n"
   ]
  },
  {
   "cell_type": "markdown",
   "id": "5ba63f7a-dc35-42f1-afba-6147c96851cc",
   "metadata": {},
   "source": [
    "Ans. \n",
    "Python's garbage collection system manages memory by automatically reclaiming memory from objects that are no longer in use. It primarily relies on reference counting, supplemented by a cyclic garbage collector for handling circular references. Here's how it works:\n",
    "\n",
    "\n",
    "1. Reference Counting:\n",
    "* Each object in Python maintains a reference count, tracking how many references (e.g., variables, other objects) point to it.\n",
    "* When a reference to an object is created (e.g., assigning it to a variable), the count increases.\n",
    "* When a reference is removed (e.g., variable reassignment or deletion with del), the count decreases.\n",
    "* If the reference count drops to zero, the object is no longer accessible, and Python's memory manager (using pymalloc) immediately deallocates it, freeing the memory.\n",
    "\n",
    "2. Cyclic Garbage Collection:\n",
    "* Reference counting alone cannot handle circular references, where objects refer to each other (e.g., a list containing itself), preventing their reference counts from reaching zero.\n",
    "* Python's gc module runs a generational garbage collector to detect and clean up such cycles.\n",
    "* Mechanism:\n",
    "    * The collector periodically scans objects for cycles, focusing on container objects (e.g., lists, dictionaries, classes) that can hold references.\n",
    "    * It identifies unreachable cycles (groups of objects only referencing each other) and breaks the cycle by deallocating them.\n",
    "* Generational Approach:\n",
    "    * Objects are grouped into generations (0, 1, 2) based on how long they’ve survived.\n",
    "    * New objects start in generation 0. If they survive a collection cycle, they move to generation 1, and later to generation 2.\n",
    "    * Younger generations are scanned more frequently, as newer objects are more likely to become garbage, improving efficiency.\n",
    "* The gc module runs automatically but can be controlled manually (e.g., gc.collect() to force collection or gc.disable() to turn it off).\n",
    "\n",
    "3. Memory Allocator:\n",
    "* Python uses a private heap managed by pymalloc, a specialized allocator for small objects (< 512 bytes), which reduces overhead and fragmentation.\n",
    "* Larger objects are allocated using the system’s memory allocator (e.g., malloc).\n",
    "\n",
    "4. Key Features:\n",
    "* Automatic: Developers don’t need to manually free memory, reducing errors like memory leaks or dangling pointers.\n",
    "* Configurable: The gc module allows tuning (e.g., adjusting collection frequency or thresholds).\n",
    "* Trade-offs: Garbage collection adds some overhead, but it’s optimized for most use cases. Circular references may delay deallocation until the collector runs."
   ]
  },
  {
   "cell_type": "markdown",
   "id": "77f2a75f-3d6e-4fdf-baaa-f2a0888d4869",
   "metadata": {},
   "source": [
    "Q16. What is the purpose of the else block in exception handling?\n"
   ]
  },
  {
   "cell_type": "markdown",
   "id": "04669854-7aac-4ab0-8c7a-16f29facc832",
   "metadata": {},
   "source": [
    "Ans. The else block in Python's exception handling serves to execute code when no exception is raised in the try block. Its purpose is to separate the code that should run only in the absence of errors from the code that handles exceptions, improving clarity and logic flow."
   ]
  },
  {
   "cell_type": "markdown",
   "id": "beb57479-74a6-4286-92dd-d3f9f2bac45a",
   "metadata": {},
   "source": [
    "Q17. What are the common logging levels in Python?\n"
   ]
  },
  {
   "cell_type": "markdown",
   "id": "7753fe00-6213-4db3-b76b-84849a013553",
   "metadata": {},
   "source": [
    "Ans. \n",
    "In Python, the logging module provides a standard way to record messages during program execution, with different severity levels to categorize the importance of these messages. The common logging levels, in increasing order of severity, are:\n",
    "\n",
    "1. DEBUG (Level 10):\n",
    "* Used for detailed diagnostic information, typically for debugging purposes.\n",
    "\n",
    "2. INFO (Level 20):\n",
    "* Used to confirm that things are working as expected, providing general operational information.\n",
    "\n",
    "3. WARNING (Level 30):\n",
    "* Indicates a potential issue or something unexpected that doesn’t prevent the program from running.\n",
    "\n",
    "4. ERROR (Level 40):\n",
    "* Signals a serious problem that prevents a specific operation from completing but doesn’t necessarily crash the program.\n",
    "\n",
    "5. CRITICAL (Level 50):\n",
    "* Represents a fatal error that causes the program to stop or indicates a severe failure."
   ]
  },
  {
   "cell_type": "markdown",
   "id": "cecf14f3-c7da-4009-9305-0ecea9c17a7b",
   "metadata": {},
   "source": [
    "Q18. What is the difference between os.fork() and multiprocessing in Python?\n"
   ]
  },
  {
   "cell_type": "markdown",
   "id": "437496d2-701d-48ed-82bf-0ac262755418",
   "metadata": {},
   "source": [
    "Ans. os.fork()\n",
    "* Level: Low-level system call\n",
    "* Platform: Unix-like only\n",
    "* Ease of Use: Manual, complex\n",
    "* Memory Handling: Copy-on-write (Unix)\n",
    "* IPC: Manual (pipes, sockets)\n",
    "* Use Case: System programming, Unix-specific\n",
    "* Safety: Error-prone, manual cleanup\n",
    "\n",
    "multiprocessing\n",
    "* Level: High-level Python module\n",
    "* Platform: Cross-platform (Unix, Windows)\n",
    "* Ease of Use: Simplified with abstractions\n",
    "* Memory Handling: Copy-on-write (Unix) or fresh (Windows)\n",
    "* IPC: Built-in (Queue, Pipe, etc.)\n",
    "* Use Case: General-purpose parallel processing\n",
    "* Safety: Robust, automatic lifecycle management"
   ]
  },
  {
   "cell_type": "markdown",
   "id": "302784fc-6dc5-4755-a067-4cea91ebcf58",
   "metadata": {},
   "source": [
    "Q19. What is the importance of closing a file in Python?\n"
   ]
  },
  {
   "cell_type": "markdown",
   "id": "a0dc0d3f-f3ab-438c-bdd4-004e0ec90243",
   "metadata": {},
   "source": [
    "Ans. Closing a file in Python is critical for several reasons, as it ensures proper resource management and prevents potential issues in a program. Here's why closing a file is important:\n",
    "\n",
    "1. Releasing System Resources:\n",
    "* When a file is opened, the operating system allocates resources (e.g., file descriptors or handles) to manage it.\n",
    "* Failing to close a file keeps these resources tied up, which can exhaust the system's limit on open files, especially in long-running programs or when opening many files.\n",
    "\n",
    "2. Flushing Buffered Data:\n",
    "* When writing to a file, data is often stored in a buffer and not immediately written to disk.\n",
    "* Closing a file ensures that all buffered data is flushed (written) to the file, preventing data loss or incomplete writes.\n",
    "\n",
    "3. Preventing File Corruption:\n",
    "* Properly closing a file ensures that all operations (e.g., writing or modifying) are completed correctly.\n",
    "* Abrupt termination without closing may leave the file in an inconsistent or corrupted state, especially for certain file types like databases or archives.\n",
    "\n",
    "4. Avoiding File Access Conflicts:\n",
    "* Open files may be locked by the operating system or program, preventing other processes or programs from accessing them.\n",
    "* Closing a file releases any locks, allowing other operations or programs to use it.\n",
    "\n",
    "5. Ensuring Portability and Reliability:\n",
    "* Some operating systems (e.g., Windows) impose stricter rules on file access, and failing to close a file can cause errors when trying to reopen, move, or delete it.\n",
    "* Properly closing files ensures consistent behavior across platforms.\n",
    "\n",
    "6. Memory Efficiency:\n",
    "* Open file objects consume memory. While Python’s garbage collector may eventually clean up unclosed files, explicitly closing them reduces memory usage and avoids reliance on garbage collection timing."
   ]
  },
  {
   "cell_type": "markdown",
   "id": "41795e7a-ff10-440a-ae2b-8098d1dfc6f6",
   "metadata": {},
   "source": [
    "Q20. What is the difference between file.read() and file.readline() in Python?\n"
   ]
  },
  {
   "cell_type": "markdown",
   "id": "44c0a6e0-ef78-4b46-bfd4-2fe5a044d2c1",
   "metadata": {},
   "source": [
    "Ans. \n",
    "In Python, file.read() and file.readline() are methods used to read content from a file, but they differ in how they read and return the data. Here's a detailed comparison:\n",
    "\n",
    "* file.read(size=-1):\n",
    "    * Reads the entire content of the file (or up to size bytes if specified) into a single string (or bytes object for binary files).\n",
    "    * Returns all the data from the current file position to the end of the file unless a size limit is provided.\n",
    "* file.readline(size=-1):\n",
    "    * Reads a single line from the file, up to and including the newline character (\\n), or up to size bytes if specified.\n",
    "    * Returns the line as a string (or bytes for binary files) and moves the file pointer to the start of the next line."
   ]
  },
  {
   "cell_type": "markdown",
   "id": "0bdc1be0-8d3c-4f8a-b143-538a74bbb200",
   "metadata": {},
   "source": [
    "Q21. What is the logging module in Python used for?\n"
   ]
  },
  {
   "cell_type": "markdown",
   "id": "686102be-2ce2-4a79-818d-01e510b0647d",
   "metadata": {},
   "source": [
    "Ans. The logging module in Python is used for recording messages about a program's execution, enabling developers to track events, debug issues, and monitor application behavior. It provides a flexible and standardized way to log information at various severity levels, making it essential for debugging, auditing, and maintaining applications."
   ]
  },
  {
   "cell_type": "markdown",
   "id": "dc8363b0-58f9-4964-b416-47281b31060d",
   "metadata": {},
   "source": [
    "Q22. What is the os module in Python used for in file handling?\n"
   ]
  },
  {
   "cell_type": "markdown",
   "id": "4e5f8753-ecba-422c-a578-2844919ab21c",
   "metadata": {},
   "source": [
    "Ans. \n",
    "The os module in Python provides a wide range of functions for interacting with the operating system, particularly for file and directory handling. It enables portable, platform-independent operations on files and directories, making it essential for tasks like creating, deleting, moving, or querying file properties. Below is an overview of its role in file handling:\n",
    "\n",
    "1. File and Directory Operations:\n",
    "* Creating Directories:\n",
    "    * os.mkdir(path): Creates a single directory.\n",
    "    * os.makedirs(path, exist_ok=True): Creates directories recursively, ignoring errors if they exist.\n",
    "* Removing Files and Directories:\n",
    "    * os.remove(path): Deletes a file.\n",
    "    * os.rmdir(path): Deletes an empty directory.\n",
    "    * os.removedirs(path): Recursively removes empty directories.\n",
    "* Renaming/Moving Files:\n",
    "    * os.rename(src, dst): Renames or moves a file or directory.\n",
    "    * os.replace(src, dst): Renames/moves, overwriting the destination if it exists.\n",
    "\n",
    "2. Path Manipulation:\n",
    "* Joining Paths:\n",
    "    * os.path.join(*paths): Combines path components into a single path, using the appropriate separator (/ or \\) for the platform.\n",
    "    * Example: os.path.join(\"folder\", \"file.txt\") → folder/file.txt (Unix) or folder\\file.txt (Windows).\n",
    "* Path Components:\n",
    "    * os.path.split(path): Splits a path into directory and filename.\n",
    "    * os.path.dirname(path): Gets the directory name.\n",
    "    * os.path.basename(path): Gets the file name.\n",
    "* Path Properties:\n",
    "    * os.path.exists(path): Checks if a file or directory exists.\n",
    "    * os.path.isfile(path): Checks if the path is a file.\n",
    "    * os.path.isdir(path): Checks if the path is a directory.\n",
    "    * os.path.abspath(path): Returns the absolute path.\n",
    "    * os.path.getsize(path): Returns the file size in bytes.\n",
    "\n",
    "3. File Metadata and Permissions:\n",
    "* File Information:\n",
    "    * os.stat(path): Returns file metadata (e.g., size, modification time, permissions).\n",
    "    * Example: os.stat(\"file.txt\").st_mtime for last modification time.\n",
    "* Permissions:\n",
    "    * os.chmod(path, mode): Changes file permissions (e.g., os.chmod(\"file.txt\", 0o755) for read/write/execute).\n",
    "* Ownership:\n",
    "    * os.chown(path, uid, gid): Changes file ownership (Unix-only).\n",
    " \n",
    "4. Directory Listing and Navigation:\n",
    "* Listing Files:\n",
    "    * os.listdir(path): Returns a list of files and directories in the specified path.\n",
    "    * os.scandir(path): More efficient iterator for directory entries with metadata.\n",
    "* Walking Directories:\n",
    "    * os.walk(top): Recursively traverses a directory tree, yielding tuples of (directory, subdirectories, files).\n",
    "* Changing Directory:\n",
    "    * os.chdir(path): Changes the current working directory.\n",
    "    * os.getcwd(): Returns the current working directory.\n",
    "\n",
    "5. File Descriptor Operations (Low-Level):\n",
    "    * os.open(path, flags): Opens a file at the system level, returning a file descriptor.\n",
    "    * os.read(fd, n) / os.write(fd, data): Reads from or writes to a file descriptor.\n",
    "    * os.close(fd): Closes a file descriptor.\n",
    "    * Useful for low-level file handling or when bypassing Python’s buffered I/O.\n",
    "\n",
    "6. Cross-Platform Portability:\n",
    "* The os module abstracts platform-specific details (e.g., path separators, file system conventions), ensuring code works on Windows, Linux, and macOS.\n",
    "* Example: os.sep provides the platform’s path separator (/ on Unix, \\ on Windows)."
   ]
  },
  {
   "cell_type": "markdown",
   "id": "d02f4003-a56d-42e2-8f94-ab7c35a5f780",
   "metadata": {},
   "source": [
    "Q23. What are the challenges associated with memory management in Python?\n"
   ]
  },
  {
   "cell_type": "markdown",
   "id": "efdb0317-0ac8-4108-8c06-70fb4ab4d4fe",
   "metadata": {},
   "source": [
    "Ans. Memory management in Python, while largely automated through reference counting and garbage collection, presents several challenges that can impact performance, scalability, and resource efficiency. Below are the key challenges associated with Python's memory management:\n",
    "\n",
    "1. Memory Overhead from Reference Counting\n",
    "* Challenge: Python uses reference counting to track object usage, which requires additional memory to store reference counts for every object. This overhead can be significant in applications with many objects.\n",
    "* Impact: Increases memory usage, especially for small objects, and can lead to inefficiencies in memory-constrained environments.\n",
    "* Mitigation: Use data structures like array or numpy for large datasets to reduce per-object overhead, or profile memory usage with tools like tracemalloc.\n",
    "  \n",
    "2. Circular References\n",
    "* Challenge: Circular references (e.g., objects referencing each other, like a list containing itself) prevent reference counts from reaching zero, delaying memory deallocation until the garbage collector intervenes.\n",
    "* Impact: Memory may not be freed immediately, leading to temporary memory leaks or increased memory usage in long-running applications.\n",
    "* Mitigation: Use weak references (weakref module) to avoid strong circular references, or explicitly trigger garbage collection with gc.collect(). Avoid circular references in data structures when possible.\n",
    "\n",
    "3. Garbage Collection Overhead\n",
    "* Challenge: Python’s cyclic garbage collector, which handles circular references, introduces runtime overhead, as it periodically scans objects to identify unreachable cycles.\n",
    "* Impact: Can cause unpredictable pauses in execution, affecting performance in real-time or latency-sensitive applications.\n",
    "* Mitigation: Tune garbage collection settings (e.g., gc.set_threshold()) to adjust collection frequency, or disable it (gc.disable()) in performance-critical sections, though this requires careful management.\n",
    "\n",
    "4. Memory Fragmentation\n",
    "* Challenge: Python’s memory allocator (pymalloc) can lead to fragmentation when objects of different sizes are allocated and deallocated, leaving unusable gaps in memory.\n",
    "* Impact: Increases memory usage and reduces efficiency, as fragmented memory may not be reused effectively.\n",
    "* Mitigation: Use memory-efficient data structures (e.g., list over-allocates strategically to reduce fragmentation), or restart long-running processes periodically to reset memory allocation.\n",
    "\n",
    "5. Global Interpreter Lock (GIL) Impact\n",
    "* Challenge: In CPython, the GIL serializes memory management operations, limiting the effectiveness of multi-threading for memory-intensive tasks.\n",
    "* Impact: Multi-threaded programs may not fully utilize memory or CPU resources, and garbage collection can exacerbate contention for the GIL.\n",
    "* Mitigation: Use multiprocessing instead of threading for parallel tasks, as each process has its own memory space and interpreter.\n",
    "\n",
    "6. Delayed Deallocation\n",
    "* Challenge: Memory deallocation may be delayed due to lingering references (e.g., variables in global scope or caches) or the garbage collector’s schedule.\n",
    "* Impact: Leads to higher memory usage than expected, especially in long-running applications or when processing large datasets.\n",
    "* Mitigation: Explicitly delete references using del, clear large data structures (e.g., list.clear()), or use context managers (with statements) to ensure timely cleanup.\n",
    "\n",
    "7. Inefficient Handling of Large Objects\n",
    "* Challenge: Python’s memory allocator is optimized for small objects (< 512 bytes), but large objects (e.g., large strings or arrays) may use the system allocator, leading to inefficiencies or fragmentation.\n",
    "* Impact: Can cause performance issues in applications handling large datasets, such as machine learning or big data processing.\n",
    "* Mitigation: Use specialized libraries like numpy or pandas for large datasets, which manage memory more efficiently, or process data in chunks.\n",
    "\n",
    "8. Lack of Fine-Grained Control\n",
    "* Challenge: Python’s high-level memory management abstracts low-level details, giving developers limited control over memory allocation and deallocation compared to languages like C or C++.\n",
    "* Impact: Difficult to optimize memory usage in performance-critical applications or embedded systems.\n",
    "* Mitigation: Use C extensions (e.g., via Cython or ctypes) for low-level memory management, or rely on Python’s profiling tools to identify and address inefficiencies.\n",
    "\n",
    "9. Memory Leaks from External Libraries\n",
    "* Challenge: External libraries (e.g., C-based extensions) or improper use of resources (e.g., unclosed files or sockets) can cause memory leaks that Python’s garbage collector cannot handle.\n",
    "* Impact: Leads to persistent memory growth in applications, especially those integrating with C libraries or external systems.\n",
    "* Mitigation: Ensure proper resource cleanup (e.g., closing files, releasing external resources), and use tools like tracemalloc or valgrind to detect leaks.\n",
    "\n",
    "10. Challenges with Large-Scale Applications\n",
    "* Challenge: In large-scale or long-running applications (e.g., web servers, data pipelines), small inefficiencies in memory usage can accumulate, leading to significant resource consumption.\n",
    "* Impact: Reduced scalability, increased costs in cloud environments, or crashes due to out-of-memory errors.\n",
    "* Mitigation: Profile memory usage regularly (tracemalloc, memory_profiler), optimize data structures, and implement monitoring to detect memory growth."
   ]
  },
  {
   "cell_type": "markdown",
   "id": "fe4d7337-c3fb-4c03-a394-041bcf55819e",
   "metadata": {},
   "source": [
    "Q24. How do you raise an exception manually in Python?\n"
   ]
  },
  {
   "cell_type": "markdown",
   "id": "218a6824-7e96-409f-95ff-2b5298fb9e84",
   "metadata": {},
   "source": [
    "Ans. \n",
    "In Python, you can raise an exception manually using the raise statement to signal an error or exceptional condition in your code. This is useful for enforcing custom logic, validating inputs, or triggering specific error-handling behavior. Here's how to do it:\n",
    "Steps to Raise an Exception\n",
    "1. Choose an Exception Type:\n",
    "* Use built-in exceptions like ValueError, TypeError, RuntimeError, etc., for standard error cases.\n",
    "* Create a custom exception class by inheriting from Exception for specific use cases.\n",
    "2. Use the raise Statement:\n",
    "* Include the exception type and an optional message.\n",
    "* The exception propagates up the call stack until caught by a try-except block or terminates the program."
   ]
  },
  {
   "cell_type": "markdown",
   "id": "7457c802-c938-4270-b239-6db5e5bcd662",
   "metadata": {},
   "source": [
    "Q25. Why is it important to use multithreading in certain applications?"
   ]
  },
  {
   "cell_type": "markdown",
   "id": "4a38edbd-cac0-4e8f-b0bb-dd2d9c8dc411",
   "metadata": {},
   "source": [
    "Ans. Multithreading is important in certain applications because it enables concurrent execution of tasks within a single process, improving performance, responsiveness, and resource efficiency in specific scenarios. While Python’s Global Interpreter Lock (GIL) limits true parallelism for CPU-bound tasks in CPython, multithreading remains valuable for I/O-bound tasks and certain use cases. Here’s why multithreading is important:\n",
    "\n",
    "1. Improved Responsiveness\n",
    "* Why: Multithreading allows an application to remain responsive by running time-consuming tasks (e.g., user input handling, GUI updates) in separate threads while the main thread continues processing.\n",
    "* Use Case: In GUI applications (e.g., using tkinter or PyQt), a thread can handle user interactions (e.g., button clicks) while another thread performs background tasks like file downloads.\n",
    "* Example: A web browser rendering a page while downloading images in parallel.\n",
    "\n",
    "2. Efficient Handling of I/O-Bound Tasks\n",
    "* Why: I/O-bound tasks (e.g., network requests, file reading/writing, database queries) involve waiting for external resources. Multithreading allows other threads to run during these wait periods, maximizing CPU utilization.\n",
    "* Use Case: Web scraping, where multiple threads fetch data from different URLs concurrently, reducing total execution time.\n",
    "\n",
    "3. Concurrent Task Execution\n",
    "* Why: Multithreading enables multiple tasks to run concurrently within the same process, sharing memory and resources, which is more lightweight than creating separate processes (e.g., with multiprocessing).\n",
    "* Use Case: Server applications handling multiple client connections simultaneously, where each thread processes a client request.\n",
    "* Example: A chat server where threads manage individual client sockets.\n",
    "\n",
    "4. Resource Efficiency\n",
    "* Why: Threads share the same memory space and process resources (e.g., file descriptors, loaded modules), making multithreading more memory-efficient than multiprocessing for tasks that don’t require separate memory spaces.\n",
    "* Use Case: Applications with many lightweight tasks, like monitoring multiple sensors or handling concurrent API requests.\n",
    "* Comparison: A thread typically uses less memory (kilobytes) compared to a process (megabytes).\n",
    "\n",
    "5. Simplified Data Sharing\n",
    "* Why: Threads within the same process can easily share data (e.g., variables, objects) without needing complex inter-process communication (IPC) mechanisms like Queue or Pipe used in multiprocessing.\n",
    "* Use Case: A real-time dashboard updating shared data structures (e.g., a counter) from multiple threads.\n",
    "* Caveat: Requires synchronization (e.g., threading.Lock) to avoid race conditions.\n",
    " \n",
    "6. Scalability for I/O-Heavy Workloads\n",
    "* Why: In applications with many I/O-bound operations, multithreading can scale to handle thousands of concurrent tasks (e.g., network connections) without the overhead of multiple processes.\n",
    "* Use Case: Web servers (e.g., using Flask with threaded request handling) or asynchronous task queues processing multiple jobs.\n",
    "* Example: Handling thousands of simultaneous HTTP requests in a web application.\n",
    "\n",
    "7. Better User Experience\n",
    "* Why: Multithreading prevents long-running tasks from blocking the main thread, ensuring a smooth user experience in interactive applications.\n",
    "* Use Case: A file transfer application where one thread handles the transfer while another updates a progress bar.\n",
    "* Example: A video streaming app buffering content in the background while playing the current segment."
   ]
  },
  {
   "cell_type": "markdown",
   "id": "3b9d3b48-bce2-4ffe-ab6b-cae503b6c0dd",
   "metadata": {},
   "source": [
    "# Practical Questions "
   ]
  },
  {
   "cell_type": "markdown",
   "id": "e7613734-5be2-4041-9355-75f838645427",
   "metadata": {},
   "source": [
    "Q1. How can you open a file for writing in Python and write a string to it?\n"
   ]
  },
  {
   "cell_type": "code",
   "execution_count": 1,
   "id": "d5f5f1fa-fbc6-411a-ba5b-9fd92fe498b6",
   "metadata": {},
   "outputs": [],
   "source": [
    "# Open the file in write mode\n",
    "with open(\"example.txt\", \"w\") as file:\n",
    "    # Write a string to the file\n",
    "    file.write(\"Hello, this is a sample text!\")\n"
   ]
  },
  {
   "cell_type": "markdown",
   "id": "6f55ce6c-de99-4265-bd71-87440763fb1b",
   "metadata": {},
   "source": [
    "Q2. Write a Python program to read the contents of a file and print each line.\n"
   ]
  },
  {
   "cell_type": "code",
   "execution_count": 5,
   "id": "c3851c7f-fd99-4c46-88dc-6e17468f96ef",
   "metadata": {},
   "outputs": [
    {
     "name": "stdout",
     "output_type": "stream",
     "text": [
      "Hello, this is a sample text!\n"
     ]
    }
   ],
   "source": [
    "# Open the file in read mode\n",
    "with open(\"example.txt\", \"r\") as file:\n",
    "    # Loop through each line and print it\n",
    "    for line in file:\n",
    "        print(line.strip())  # strip() removes the newline character\n"
   ]
  },
  {
   "cell_type": "markdown",
   "id": "bb3b3f78-0c62-42a1-bb91-2a5d192d20e2",
   "metadata": {},
   "source": [
    "Q3. How would you handle a case where the file doesn't exist while trying to open it for reading\u001f\n"
   ]
  },
  {
   "cell_type": "code",
   "execution_count": 3,
   "id": "9a9e44b9-564f-4fa5-ab98-3cd73143b383",
   "metadata": {},
   "outputs": [
    {
     "name": "stdout",
     "output_type": "stream",
     "text": [
      "Hello, this is a sample text!\n"
     ]
    }
   ],
   "source": [
    "try:\n",
    "    with open(\"example.txt\", \"r\") as file:\n",
    "        for line in file:\n",
    "            print(line.strip())\n",
    "except FileNotFoundError:\n",
    "    print(\"The file was not found.\")\n"
   ]
  },
  {
   "cell_type": "markdown",
   "id": "3ec5bbae-68ee-4d14-97f7-4b3a6b6edf2d",
   "metadata": {},
   "source": [
    "Q4. Write a Python script that reads from one file and writes its content to another file.\n",
    " "
   ]
  },
  {
   "cell_type": "code",
   "execution_count": 7,
   "id": "e8d7c456-4291-4a62-a81d-1e19dfdc5b83",
   "metadata": {},
   "outputs": [
    {
     "name": "stdout",
     "output_type": "stream",
     "text": [
      "Error: 'source.txt' does not exist.\n"
     ]
    }
   ],
   "source": [
    "\n",
    "try:\n",
    "    with open(\"source.txt\", \"r\") as source_file:\n",
    "        content = source_file.read()\n",
    "\n",
    "    with open(\"destination.txt\", \"w\") as destination_file:\n",
    "        destination_file.write(content)\n",
    "\n",
    "    print(\"Content copied successfully.\")\n",
    "except FileNotFoundError:\n",
    "    print(\"Error: 'source.txt' does not exist.\")\n"
   ]
  },
  {
   "cell_type": "markdown",
   "id": "b9129175-2a64-490c-9ddf-7c68d80873d9",
   "metadata": {},
   "source": [
    "Q5. How would you catch and handle division by zero error in Python?\n"
   ]
  },
  {
   "cell_type": "code",
   "execution_count": 8,
   "id": "9a02934f-44b3-45c9-8f55-a3ceadbc8471",
   "metadata": {},
   "outputs": [
    {
     "name": "stdout",
     "output_type": "stream",
     "text": [
      "Error: You can't divide by zero!\n"
     ]
    }
   ],
   "source": [
    "try:\n",
    "    num = 10\n",
    "    result = num / 0\n",
    "except ZeroDivisionError:\n",
    "    print(\"Error: You can't divide by zero!\")\n"
   ]
  },
  {
   "cell_type": "markdown",
   "id": "d037f52b-7e8e-430c-9bac-41ed0d635101",
   "metadata": {},
   "source": [
    "Q6. Write a Python program that logs an error message to a log file when a division by zero exception occurs.\n"
   ]
  },
  {
   "cell_type": "code",
   "execution_count": 9,
   "id": "74e4fed8-fa65-48c7-9977-2e5b555ed06c",
   "metadata": {},
   "outputs": [
    {
     "name": "stdout",
     "output_type": "stream",
     "text": [
      "An error occurred. Check the log file for details.\n"
     ]
    }
   ],
   "source": [
    "import logging\n",
    "\n",
    "# Configure logging to write to a file\n",
    "logging.basicConfig(filename='error.log', level=logging.ERROR, format='%(asctime)s - %(levelname)s - %(message)s')\n",
    "\n",
    "try:\n",
    "    num = 10\n",
    "    result = num / 0\n",
    "except ZeroDivisionError:\n",
    "    logging.error(\"Attempted to divide by zero.\")\n",
    "    print(\"An error occurred. Check the log file for details.\")\n"
   ]
  },
  {
   "cell_type": "markdown",
   "id": "0c5d26e8-58d7-41a4-b48d-c4f534018f40",
   "metadata": {},
   "source": [
    "Q7. How do you log information at different levels (INFO, ERROR, WARNING) in Python using the logging module?\n"
   ]
  },
  {
   "cell_type": "code",
   "execution_count": 10,
   "id": "1f8bde59-1af8-4f88-bfef-fae1e4cfcba5",
   "metadata": {},
   "outputs": [],
   "source": [
    "import logging\n",
    "\n",
    "# Configure logging\n",
    "logging.basicConfig(filename='app.log', level=logging.DEBUG, format='%(asctime)s - %(levelname)s - %(message)s')\n",
    "\n",
    "# Log messages at different levels\n",
    "logging.info(\"This is an info message.\")\n",
    "logging.warning(\"This is a warning message.\")\n",
    "logging.error(\"This is an error message.\")\n"
   ]
  },
  {
   "cell_type": "markdown",
   "id": "61427721-83b1-42f3-ab9c-25ae8b4f3265",
   "metadata": {},
   "source": [
    "Q8. Write a program to handle a file opening error using exception handling.\n"
   ]
  },
  {
   "cell_type": "code",
   "execution_count": 11,
   "id": "83e8c8e9-27f5-4d1a-9a4e-ca3181680a8a",
   "metadata": {},
   "outputs": [
    {
     "name": "stdout",
     "output_type": "stream",
     "text": [
      "Error: The file 'myfile.txt' was not found.\n"
     ]
    }
   ],
   "source": [
    "try:\n",
    "    with open(\"myfile.txt\", \"r\") as file:\n",
    "        content = file.read()\n",
    "        print(content)\n",
    "except FileNotFoundError:\n",
    "    print(\"Error: The file 'myfile.txt' was not found.\")\n"
   ]
  },
  {
   "cell_type": "markdown",
   "id": "d42404f2-5b57-4080-8fcc-31b0f68df91f",
   "metadata": {},
   "source": [
    "Q9. How can you read a file line by line and store its content in a list in Python?\n"
   ]
  },
  {
   "cell_type": "code",
   "execution_count": 12,
   "id": "109bce17-464b-4f85-a30f-cdc330af0e68",
   "metadata": {},
   "outputs": [
    {
     "name": "stdout",
     "output_type": "stream",
     "text": [
      "['Hello, this is a sample text!']\n"
     ]
    }
   ],
   "source": [
    "with open(\"example.txt\", \"r\") as file:\n",
    "    lines = file.readlines()\n",
    "\n",
    "# Optional: remove newline characters\n",
    "lines = [line.strip() for line in lines]\n",
    "\n",
    "print(lines)\n"
   ]
  },
  {
   "cell_type": "markdown",
   "id": "7f524a3c-e4b5-41e5-a064-cf3a47c19d68",
   "metadata": {},
   "source": [
    "Q10. How can you append data to an existing file in Python?\n"
   ]
  },
  {
   "cell_type": "code",
   "execution_count": 13,
   "id": "52cc1ac8-20a5-479c-ab2e-c40d6f17010c",
   "metadata": {},
   "outputs": [],
   "source": [
    "# Open the file in append mode\n",
    "with open(\"example.txt\", \"a\") as file:\n",
    "    # Append new data to the file\n",
    "    file.write(\"This is new data being appended.\\n\")\n"
   ]
  },
  {
   "cell_type": "markdown",
   "id": "8af2b6e3-2576-427e-8e02-0f526bda35d3",
   "metadata": {},
   "source": [
    "Q11. Write a Python program that uses a try-except block to handle an error when attempting to access a\n",
    "dictionary key that doesn't exist? "
   ]
  },
  {
   "cell_type": "code",
   "execution_count": 14,
   "id": "c0af58a4-ace0-4563-ba78-5b296f9f1d12",
   "metadata": {},
   "outputs": [],
   "source": [
    "# Open the file in write mode\n",
    "with open(\"example.txt\", \"w\") as file:\n",
    "    # Write a string to the file\n",
    "    file.write(\"Hello, this is a sample text!\")\n"
   ]
  },
  {
   "cell_type": "markdown",
   "id": "86a26a7e-1e05-41cd-8c9c-6f245740ba86",
   "metadata": {},
   "source": [
    "Q12. Write a program that demonstrates using multiple except blocks to handle different types of exceptions.\n",
    " "
   ]
  },
  {
   "cell_type": "code",
   "execution_count": 15,
   "id": "dce27518-0995-4ebc-a3cb-7d1e4c15c4d8",
   "metadata": {},
   "outputs": [
    {
     "name": "stdout",
     "output_type": "stream",
     "text": [
      "Error: Cannot divide by zero.\n"
     ]
    }
   ],
   "source": [
    "try:\n",
    "    # Example: division by zero\n",
    "    num = 10\n",
    "    result = num / 0\n",
    "    \n",
    "    # Example: accessing a dictionary key that doesn't exist\n",
    "    my_dict = {\"name\": \"John\", \"age\": 25}\n",
    "    value = my_dict[\"address\"]\n",
    "    \n",
    "except ZeroDivisionError:\n",
    "    print(\"Error: Cannot divide by zero.\")\n",
    "    \n",
    "except KeyError:\n",
    "    print(\"Error: The key does not exist in the dictionary.\")\n",
    "    \n",
    "except Exception as e:\n",
    "    # Catch any other exceptions\n",
    "    print(f\"An unexpected error occurred: {e}\")\n"
   ]
  },
  {
   "cell_type": "markdown",
   "id": "ff84d260-0c2e-44b6-a723-914ec48fa788",
   "metadata": {},
   "source": [
    "Q13.How would you check if a file exists before attempting to read it in Python?\n"
   ]
  },
  {
   "cell_type": "markdown",
   "id": "c60755f9-6f50-441a-994e-e21e8859b290",
   "metadata": {},
   "source": [
    "* Using os.path.exists():"
   ]
  },
  {
   "cell_type": "code",
   "execution_count": 17,
   "id": "8f67ade0-437a-4a7e-9240-3500e74927ab",
   "metadata": {},
   "outputs": [
    {
     "name": "stdout",
     "output_type": "stream",
     "text": [
      "Hello, this is a sample text!\n"
     ]
    }
   ],
   "source": [
    "import os\n",
    "\n",
    "filename = \"example.txt\"\n",
    "\n",
    "if os.path.exists(filename):\n",
    "    with open(filename, \"r\") as file:\n",
    "        content = file.read()\n",
    "        print(content)\n",
    "else:\n",
    "    print(f\"Error: The file '{filename}' does not exist.\")\n"
   ]
  },
  {
   "cell_type": "markdown",
   "id": "bd630c98-f72c-4b17-862f-e084856cf735",
   "metadata": {},
   "source": [
    "* Using pathlib.Path:"
   ]
  },
  {
   "cell_type": "code",
   "execution_count": 18,
   "id": "46769da1-9402-456e-b7d4-08a6ee0436ea",
   "metadata": {},
   "outputs": [
    {
     "name": "stdout",
     "output_type": "stream",
     "text": [
      "Hello, this is a sample text!\n"
     ]
    }
   ],
   "source": [
    "from pathlib import Path\n",
    "\n",
    "filename = Path(\"example.txt\")\n",
    "\n",
    "if filename.exists():\n",
    "    with open(filename, \"r\") as file:\n",
    "        content = file.read()\n",
    "        print(content)\n",
    "else:\n",
    "    print(f\"Error: The file '{filename}' does not exist.\")\n"
   ]
  },
  {
   "cell_type": "markdown",
   "id": "42f18ed1-9e72-4556-913c-1de8b07c73da",
   "metadata": {},
   "source": [
    "Q14. Write a program that uses the logging module to log both informational and error messages.\n"
   ]
  },
  {
   "cell_type": "code",
   "execution_count": 19,
   "id": "1b49d93c-2b17-479c-aa7e-8c7196a04334",
   "metadata": {},
   "outputs": [],
   "source": [
    "import logging\n",
    "\n",
    "# Configure logging to write to a file\n",
    "logging.basicConfig(filename='app.log', level=logging.DEBUG, format='%(asctime)s - %(levelname)s - %(message)s')\n",
    "\n",
    "# Log an informational message\n",
    "logging.info(\"This is an informational message.\")\n",
    "\n",
    "# Log a warning message\n",
    "logging.warning(\"This is a warning message.\")\n",
    "\n",
    "# Log an error message\n",
    "logging.error(\"This is an error message.\")\n",
    "\n",
    "# Log a critical error message\n",
    "logging.critical(\"This is a critical error message.\")\n"
   ]
  },
  {
   "cell_type": "markdown",
   "id": "68a5e8e4-44fb-4d49-a46f-dc4d036bc6be",
   "metadata": {},
   "source": [
    "Q15. Write a Python program that prints the content of a file and handles the case when the file is empty.\n"
   ]
  },
  {
   "cell_type": "code",
   "execution_count": 20,
   "id": "e8fed188-9f7f-4a23-b241-cb4dbef1ccc9",
   "metadata": {},
   "outputs": [
    {
     "name": "stdout",
     "output_type": "stream",
     "text": [
      "Hello, this is a sample text!\n"
     ]
    }
   ],
   "source": [
    "try:\n",
    "    with open(\"example.txt\", \"r\") as file:\n",
    "        content = file.read()\n",
    "        if content:\n",
    "            print(content)\n",
    "        else:\n",
    "            print(\"The file is empty.\")\n",
    "except FileNotFoundError:\n",
    "    print(\"Error: The file does not exist.\")\n"
   ]
  },
  {
   "cell_type": "markdown",
   "id": "3c8ecc15-059c-4dee-b466-3f72d6e87db2",
   "metadata": {},
   "source": [
    "Q16. Demonstrate how to use memory profiling to check the memory usage of a small program.\n"
   ]
  },
  {
   "cell_type": "code",
   "execution_count": 21,
   "id": "764764d0-d090-4cb4-9ee1-76df850e1443",
   "metadata": {},
   "outputs": [
    {
     "name": "stdout",
     "output_type": "stream",
     "text": [
      "ERROR: Could not find file C:\\Users\\Asus\\AppData\\Local\\Temp\\ipykernel_9952\\616665944.py\n",
      "List created with 1000000 elements.\n"
     ]
    }
   ],
   "source": [
    "from memory_profiler import profile\n",
    "\n",
    "@profile\n",
    "def my_function():\n",
    "    # Create a large list to demonstrate memory usage\n",
    "    my_list = [i for i in range(1000000)]  # List with 1 million integers\n",
    "    print(f\"List created with {len(my_list)} elements.\")\n",
    "    return my_list\n",
    "\n",
    "if __name__ == \"__main__\":\n",
    "    my_function()\n"
   ]
  },
  {
   "cell_type": "markdown",
   "id": "e0e12d0c-317f-4c0c-b8c3-2962fa5c89d9",
   "metadata": {},
   "source": [
    "Q17. Write a Python program to create and write a list of numbers to a file, one number per line.\n"
   ]
  },
  {
   "cell_type": "code",
   "execution_count": 22,
   "id": "d3e0c8ff-a4ae-4322-9f17-2e8eab951a7c",
   "metadata": {},
   "outputs": [
    {
     "name": "stdout",
     "output_type": "stream",
     "text": [
      "Numbers have been written to 'numbers.txt'.\n"
     ]
    }
   ],
   "source": [
    "# List of numbers to write to the file\n",
    "numbers = [1, 2, 3, 4, 5, 6, 7, 8, 9, 10]\n",
    "\n",
    "# Open the file in write mode\n",
    "with open(\"numbers.txt\", \"w\") as file:\n",
    "    for number in numbers:\n",
    "        file.write(f\"{number}\\n\")  # Write each number on a new line\n",
    "\n",
    "print(\"Numbers have been written to 'numbers.txt'.\")\n"
   ]
  },
  {
   "cell_type": "markdown",
   "id": "aa417dd0-817f-429a-be75-f5527d52f7b0",
   "metadata": {},
   "source": [
    "Q18. How would you implement a basic logging setup that logs to a file with rotation after 1MB?\n"
   ]
  },
  {
   "cell_type": "code",
   "execution_count": 23,
   "id": "85d09544-2893-4eca-88b1-10e8ff1a3164",
   "metadata": {},
   "outputs": [],
   "source": [
    "import logging\n",
    "from logging.handlers import RotatingFileHandler\n",
    "\n",
    "# Create a RotatingFileHandler that rotates after 1MB\n",
    "handler = RotatingFileHandler('app.log', maxBytes=1*1024*1024, backupCount=3)\n",
    "\n",
    "# Create a logger\n",
    "logger = logging.getLogger()\n",
    "logger.setLevel(logging.INFO)\n",
    "\n",
    "# Add the handler to the logger\n",
    "logger.addHandler(handler)\n",
    "\n",
    "# Example logs\n",
    "logger.info(\"This is an info message.\")\n",
    "logger.warning(\"This is a warning message.\")\n",
    "logger.error(\"This is an error message.\")\n",
    "\n",
    "# Simulate logging more messages to exceed 1MB (for testing purposes)\n",
    "for i in range(1000):\n",
    "    logger.info(f\"Logging message number {i}\")\n"
   ]
  },
  {
   "cell_type": "markdown",
   "id": "c709cc6a-92a4-45a6-b094-b0e76657bb7a",
   "metadata": {},
   "source": [
    "Q19. Write a program that handles both IndexError and KeyError using a try-except block.\n"
   ]
  },
  {
   "cell_type": "code",
   "execution_count": 24,
   "id": "787780b6-2cdf-4bbb-8ddf-749af6a3312c",
   "metadata": {},
   "outputs": [
    {
     "name": "stdout",
     "output_type": "stream",
     "text": [
      "Error: The index does not exist in the list.\n"
     ]
    }
   ],
   "source": [
    "# Sample list and dictionary\n",
    "my_list = [1, 2, 3]\n",
    "my_dict = {\"name\": \"Alice\", \"age\": 25}\n",
    "\n",
    "try:\n",
    "    # Attempt to access an element by index\n",
    "    print(my_list[5])  # This will raise IndexError\n",
    "\n",
    "    # Attempt to access a key in the dictionary\n",
    "    print(my_dict[\"address\"])  # This will raise KeyError\n",
    "\n",
    "except IndexError:\n",
    "    print(\"Error: The index does not exist in the list.\")\n",
    "\n",
    "except KeyError:\n",
    "    print(\"Error: The key does not exist in the dictionary.\")\n"
   ]
  },
  {
   "cell_type": "markdown",
   "id": "11f42755-7d26-4ccc-827e-6a183540fa2a",
   "metadata": {},
   "source": [
    "Q20.  How would you open a file and read its contents using a context manager in Python?\n"
   ]
  },
  {
   "cell_type": "code",
   "execution_count": 25,
   "id": "6f25086f-9825-4044-b343-902b4e5e3460",
   "metadata": {},
   "outputs": [
    {
     "name": "stdout",
     "output_type": "stream",
     "text": [
      "Hello, this is a sample text!\n"
     ]
    }
   ],
   "source": [
    "# Open and read the file using a context manager\n",
    "with open(\"example.txt\", \"r\") as file:\n",
    "    content = file.read()\n",
    "    print(content)\n"
   ]
  },
  {
   "cell_type": "markdown",
   "id": "68f38d6a-cceb-4f64-8680-5534848f3662",
   "metadata": {},
   "source": [
    "Q21. Write a Python program that reads a file and prints the number of occurrences of a specific word.\n"
   ]
  },
  {
   "cell_type": "code",
   "execution_count": 26,
   "id": "e9a112e5-afdd-4511-92ac-c54bfbf1e20f",
   "metadata": {},
   "outputs": [
    {
     "name": "stdout",
     "output_type": "stream",
     "text": [
      "The word 'python' occurred 0 times in the file 'example.txt'.\n"
     ]
    }
   ],
   "source": [
    "# Function to count occurrences of a specific word in a file\n",
    "def count_word_in_file(filename, word_to_count):\n",
    "    try:\n",
    "        with open(filename, \"r\") as file:\n",
    "            content = file.read()\n",
    "            word_count = content.lower().split().count(word_to_count.lower())\n",
    "        return word_count\n",
    "    except FileNotFoundError:\n",
    "        print(f\"Error: The file '{filename}' was not found.\")\n",
    "        return 0\n",
    "\n",
    "# Example usage\n",
    "filename = \"example.txt\"\n",
    "word = \"python\"  # Word you want to count\n",
    "\n",
    "count = count_word_in_file(filename, word)\n",
    "print(f\"The word '{word}' occurred {count} times in the file '{filename}'.\")\n"
   ]
  },
  {
   "cell_type": "markdown",
   "id": "9a9588c7-bc7e-4f03-b3f5-0945ab0fb8ca",
   "metadata": {},
   "source": [
    "Q22. How can you check if a file is empty before attempting to read its contents?\n"
   ]
  },
  {
   "cell_type": "code",
   "execution_count": 27,
   "id": "f3432e44-a0b0-45e5-8b6c-807e8341b409",
   "metadata": {},
   "outputs": [
    {
     "name": "stdout",
     "output_type": "stream",
     "text": [
      "Hello, this is a sample text!\n"
     ]
    }
   ],
   "source": [
    "import os\n",
    "\n",
    "filename = \"example.txt\"\n",
    "\n",
    "# Check if the file is empty\n",
    "if os.path.getsize(filename) == 0:\n",
    "    print(f\"The file '{filename}' is empty.\")\n",
    "else:\n",
    "    with open(filename, \"r\") as file:\n",
    "        content = file.read()\n",
    "        print(content)\n"
   ]
  },
  {
   "cell_type": "markdown",
   "id": "a49344f9-3e29-43d1-b769-de897b6ff430",
   "metadata": {},
   "source": [
    "Q23. Write a Python program that writes to a log file when an error occurs during file handling.\n"
   ]
  },
  {
   "cell_type": "code",
   "execution_count": 28,
   "id": "4ac859cf-537e-44b1-a952-d923c58259c8",
   "metadata": {},
   "outputs": [
    {
     "name": "stdout",
     "output_type": "stream",
     "text": [
      "Error: The file 'non_existent_file.txt' was not found.\n"
     ]
    }
   ],
   "source": [
    "import logging\n",
    "\n",
    "# Configure the logging module to write to a log file\n",
    "logging.basicConfig(filename='file_handling_errors.log', level=logging.ERROR, \n",
    "                    format='%(asctime)s - %(levelname)s - %(message)s')\n",
    "\n",
    "def read_file(filename):\n",
    "    try:\n",
    "        with open(filename, 'r') as file:\n",
    "            content = file.read()\n",
    "            print(content)\n",
    "    except FileNotFoundError:\n",
    "        logging.error(f\"File '{filename}' not found.\")\n",
    "        print(f\"Error: The file '{filename}' was not found.\")\n",
    "    except PermissionError:\n",
    "        logging.error(f\"Permission denied to read '{filename}'.\")\n",
    "        print(f\"Error: Permission denied to read '{filename}'.\")\n",
    "    except Exception as e:\n",
    "        logging.error(f\"An unexpected error occurred while handling the file '{filename}': {e}\")\n",
    "        print(f\"An unexpected error occurred: {e}\")\n",
    "\n",
    "# Example usage\n",
    "read_file(\"non_existent_file.txt\")\n"
   ]
  },
  {
   "cell_type": "code",
   "execution_count": null,
   "id": "471aff10-1fab-4c99-abf8-556df573bbcc",
   "metadata": {},
   "outputs": [],
   "source": []
  },
  {
   "cell_type": "code",
   "execution_count": null,
   "id": "becc11fb-7038-49ae-a0db-d9fb38e3248a",
   "metadata": {},
   "outputs": [],
   "source": []
  },
  {
   "cell_type": "code",
   "execution_count": null,
   "id": "9c23167b-4de2-49a9-a0fe-d997a6123880",
   "metadata": {},
   "outputs": [],
   "source": []
  },
  {
   "cell_type": "code",
   "execution_count": null,
   "id": "d60c26ee-b80a-4c21-9eac-65eef2cabe5a",
   "metadata": {},
   "outputs": [],
   "source": []
  }
 ],
 "metadata": {
  "kernelspec": {
   "display_name": "Python 3 (ipykernel)",
   "language": "python",
   "name": "python3"
  },
  "language_info": {
   "codemirror_mode": {
    "name": "ipython",
    "version": 3
   },
   "file_extension": ".py",
   "mimetype": "text/x-python",
   "name": "python",
   "nbconvert_exporter": "python",
   "pygments_lexer": "ipython3",
   "version": "3.12.6"
  }
 },
 "nbformat": 4,
 "nbformat_minor": 5
}
